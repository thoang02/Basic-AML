{
 "cells": [
  {
   "cell_type": "code",
   "execution_count": 27,
   "metadata": {},
   "outputs": [],
   "source": [
    "import numpy as np\n",
    "import matplotlib.pyplot as plt\n",
    "from matplotlib.backends.backend_pdf import PdfPages\n",
    "from sklearn.svm import SVC"
   ]
  },
  {
   "cell_type": "code",
   "execution_count": 65,
   "metadata": {},
   "outputs": [],
   "source": [
    "np.random.seed(1)\n",
    "means = [[2, 2], [4, 1]]\n",
    "cov = [[.5, 0], [0, .5]]\n",
    "N = 20\n",
    "X0 = np.random.multivariate_normal(means[0], cov, N)\n",
    "X1 = np.random.multivariate_normal(means[1], cov, N)"
   ]
  },
  {
   "cell_type": "code",
   "execution_count": 66,
   "metadata": {},
   "outputs": [
    {
     "data": {
      "text/plain": [
       "array([[3.14858562, 1.56742289],\n",
       "       [1.62652617, 1.24129661],\n",
       "       [2.6119356 , 0.37256638],\n",
       "       [3.23376823, 1.46174544],\n",
       "       [2.22559471, 1.82366852],\n",
       "       [3.03386644, 0.54326053],\n",
       "       [1.77201661, 1.72843256],\n",
       "       [2.80169606, 1.22225943],\n",
       "       [1.87807485, 1.37926036],\n",
       "       [2.02984963, 2.41211259],\n",
       "       [1.22174472, 2.8094419 ],\n",
       "       [2.63752091, 2.35531715],\n",
       "       [2.63700135, 1.51653139],\n",
       "       [1.91310349, 1.33831109],\n",
       "       [1.81057452, 2.37501795],\n",
       "       [1.51092199, 1.71945289],\n",
       "       [1.51409552, 1.40234936],\n",
       "       [1.52535731, 1.99104478],\n",
       "       [1.20994228, 2.16575693],\n",
       "       [3.17365737, 2.52470446]])"
      ]
     },
     "execution_count": 66,
     "metadata": {},
     "output_type": "execute_result"
    }
   ],
   "source": [
    "X0"
   ]
  },
  {
   "cell_type": "code",
   "execution_count": 67,
   "metadata": {},
   "outputs": [
    {
     "data": {
      "text/plain": [
       "array([[ 3.86435178,  0.37235154],\n",
       "       [ 3.4716793 ,  2.19674613],\n",
       "       [ 4.03592651,  0.54957606],\n",
       "       [ 4.13499763,  2.48510465],\n",
       "       [ 4.08496521,  1.4364285 ],\n",
       "       [ 4.21225247,  0.75092174],\n",
       "       [ 3.19211763,  0.75297739],\n",
       "       [ 3.85228947,  1.41480524],\n",
       "       [ 4.59325086,  1.6583886 ],\n",
       "       [ 4.20194073,  1.62588932],\n",
       "       [ 3.4665601 ,  1.88591157],\n",
       "       [ 4.36269615,  0.78921653],\n",
       "       [ 4.34543449,  0.94656273],\n",
       "       [ 4.80018281,  2.07467278],\n",
       "       [ 5.54543519,  0.01252797],\n",
       "       [ 2.97885734,  0.64328877],\n",
       "       [ 4.1131633 ,  1.61954499],\n",
       "       [ 4.22318761, -0.42991219],\n",
       "       [ 3.78348107,  1.58546648],\n",
       "       [ 4.16270155,  1.53882327]])"
      ]
     },
     "execution_count": 67,
     "metadata": {},
     "output_type": "execute_result"
    }
   ],
   "source": [
    "X1"
   ]
  },
  {
   "cell_type": "code",
   "execution_count": 68,
   "metadata": {},
   "outputs": [],
   "source": [
    "X1[-1]= [2.7, 2]"
   ]
  },
  {
   "cell_type": "code",
   "execution_count": 69,
   "metadata": {},
   "outputs": [
    {
     "data": {
      "text/plain": [
       "array([[ 3.86435178,  0.37235154],\n",
       "       [ 3.4716793 ,  2.19674613],\n",
       "       [ 4.03592651,  0.54957606],\n",
       "       [ 4.13499763,  2.48510465],\n",
       "       [ 4.08496521,  1.4364285 ],\n",
       "       [ 4.21225247,  0.75092174],\n",
       "       [ 3.19211763,  0.75297739],\n",
       "       [ 3.85228947,  1.41480524],\n",
       "       [ 4.59325086,  1.6583886 ],\n",
       "       [ 4.20194073,  1.62588932],\n",
       "       [ 3.4665601 ,  1.88591157],\n",
       "       [ 4.36269615,  0.78921653],\n",
       "       [ 4.34543449,  0.94656273],\n",
       "       [ 4.80018281,  2.07467278],\n",
       "       [ 5.54543519,  0.01252797],\n",
       "       [ 2.97885734,  0.64328877],\n",
       "       [ 4.1131633 ,  1.61954499],\n",
       "       [ 4.22318761, -0.42991219],\n",
       "       [ 3.78348107,  1.58546648],\n",
       "       [ 2.7       ,  2.        ]])"
      ]
     },
     "execution_count": 69,
     "metadata": {},
     "output_type": "execute_result"
    }
   ],
   "source": [
    "X1"
   ]
  },
  {
   "cell_type": "code",
   "execution_count": 70,
   "metadata": {},
   "outputs": [],
   "source": [
    "X = np.vstack((X0, X1))\n",
    "y = np.vstack((np.ones((1, N)), -1*np.ones((1, N)))).reshape((2*N,))"
   ]
  },
  {
   "cell_type": "code",
   "execution_count": 71,
   "metadata": {},
   "outputs": [
    {
     "data": {
      "text/plain": [
       "(40, 2)"
      ]
     },
     "execution_count": 71,
     "metadata": {},
     "output_type": "execute_result"
    }
   ],
   "source": [
    "X.shape"
   ]
  },
  {
   "cell_type": "code",
   "execution_count": 72,
   "metadata": {},
   "outputs": [
    {
     "data": {
      "text/plain": [
       "(40,)"
      ]
     },
     "execution_count": 72,
     "metadata": {},
     "output_type": "execute_result"
    }
   ],
   "source": [
    "y.shape"
   ]
  },
  {
   "cell_type": "code",
   "execution_count": 73,
   "metadata": {},
   "outputs": [
    {
     "data": {
      "image/png": "[encoded data removed]",
      "text/plain": [
       "<Figure size 432x288 with 1 Axes>"
      ]
     },
     "metadata": {},
     "output_type": "display_data"
    }
   ],
   "source": [
    "with PdfPages('data.pdf') as pdf:\n",
    "    plt.plot(X0[:, 0], X0[:, 1], 'bs', markersize = 8, alpha = 1)\n",
    "    plt.plot(X1[:, 0], X1[:, 1], 'ro', markersize = 8, alpha = 1)\n",
    "    plt.axis('equal')\n",
    "    plt.ylim(0, 4)\n",
    "    plt.xlim(0, 5)\n",
    "\n",
    "    # hide tikcs \n",
    "    cur_axes = plt.gca()\n",
    "    cur_axes.axes.get_xaxis().set_ticks([])\n",
    "    cur_axes.axes.get_yaxis().set_ticks([])\n",
    "\n",
    "    plt.xlabel('$x_1$', fontsize = 20)\n",
    "    plt.ylabel('$x_2$', fontsize = 20)\n",
    "    pdf.savefig()\n",
    "    # plt.savefig('logistic_2d.png', bbox_inches='tight', dpi = 300)\n",
    "    plt.show()"
   ]
  },
  {
   "cell_type": "code",
   "execution_count": 74,
   "metadata": {},
   "outputs": [
    {
     "data": {
      "image/png": "[encoded data removed]",
      "text/plain": [
       "<Figure size 432x288 with 1 Axes>"
      ]
     },
     "metadata": {},
     "output_type": "display_data"
    }
   ],
   "source": [
    "plt.plot(X0[:, 0], X0[:, 1], 'bs', markersize = 8, alpha = 1)\n",
    "plt.plot(X1[:, 0], X1[:, 1], 'ro', markersize = 8, alpha = 1)\n",
    "plt.axis('equal')\n",
    "plt.ylim(0, 4)\n",
    "plt.xlim(0, 5)\n",
    "\n",
    "# hide tikcs \n",
    "cur_axes = plt.gca()\n",
    "cur_axes.axes.get_xaxis().set_ticks([])\n",
    "cur_axes.axes.get_yaxis().set_ticks([])\n",
    "\n",
    "plt.xlabel('$x_1$', fontsize = 20)\n",
    "plt.ylabel('$x_2$', fontsize = 20)\n",
    "# plt.savefig('logistic_2d.png', bbox_inches='tight', dpi = 300)\n",
    "plt.show()"
   ]
  },
  {
   "cell_type": "code",
   "execution_count": 75,
   "metadata": {},
   "outputs": [
    {
     "data": {
      "text/plain": [
       "0.9"
      ]
     },
     "execution_count": 75,
     "metadata": {},
     "output_type": "execute_result"
    }
   ],
   "source": [
    "C = 100\n",
    "clf = SVC(kernel = 'linear', C=C)\n",
    "clf.fit(X,y)\n",
    "clf.score(X,y)"
   ]
  },
  {
   "cell_type": "code",
   "execution_count": 76,
   "metadata": {},
   "outputs": [
    {
     "data": {
      "text/plain": [
       "0.875"
      ]
     },
     "execution_count": 76,
     "metadata": {},
     "output_type": "execute_result"
    }
   ],
   "source": [
    "C = 10\n",
    "clf = SVC(kernel = 'linear', C=C)\n",
    "clf.fit(X, y)\n",
    "clf.score(X, y)"
   ]
  },
  {
   "cell_type": "code",
   "execution_count": null,
   "metadata": {},
   "outputs": [],
   "source": []
  }
 ],
 "metadata": {
  "kernelspec": {
   "display_name": "Python 3",
   "language": "python",
   "name": "python3"
  },
  "language_info": {
   "codemirror_mode": {
    "name": "ipython",
    "version": 3
   },
   "file_extension": ".py",
   "mimetype": "text/x-python",
   "name": "python",
   "nbconvert_exporter": "python",
   "pygments_lexer": "ipython3",
   "version": "3.8.5"
  }
 },
 "nbformat": 4,
 "nbformat_minor": 4
}
